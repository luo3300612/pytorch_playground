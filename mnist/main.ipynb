{
 "cells": [
  {
   "cell_type": "markdown",
   "metadata": {},
   "source": [
    "# MINST\n",
    "这个项目的目标是使用pytorch训练一个神经网络用来识别MINST数据集"
   ]
  },
  {
   "cell_type": "code",
   "execution_count": 1,
   "metadata": {},
   "outputs": [],
   "source": [
    "import torch\n",
    "import torchvision\n",
    "import matplotlib.pyplot as plt\n",
    "import torch.nn as nn\n",
    "import torch.nn.functional as F\n",
    "import torch.optim as optim\n",
    "import random\n",
    "from torch.utils.data import DataLoader"
   ]
  },
  {
   "cell_type": "markdown",
   "metadata": {},
   "source": [
    "## 加载数据"
   ]
  },
  {
   "cell_type": "code",
   "execution_count": 2,
   "metadata": {},
   "outputs": [],
   "source": [
    "train_data = torchvision.datasets.MNIST(root='./data/',\n",
    "                                        train=True,\n",
    "                                       transform=torchvision.transforms.ToTensor(),\n",
    "                                       download=False)\n",
    "test_data = torchvision.datasets.MNIST(root='./data/',\n",
    "                                        train=False,\n",
    "                                       transform=torchvision.transforms.ToTensor(),\n",
    "                                       download=False)\n"
   ]
  },
  {
   "cell_type": "markdown",
   "metadata": {},
   "source": [
    "### 数据集信息"
   ]
  },
  {
   "cell_type": "code",
   "execution_count": 3,
   "metadata": {},
   "outputs": [
    {
     "name": "stdout",
     "output_type": "stream",
     "text": [
      "train data size  torch.Size([60000, 28, 28])\n",
      "test data size  torch.Size([10000, 28, 28])\n"
     ]
    },
    {
     "data": {
      "image/png": "[encoded data removed]",
      "text/plain": [
       "<Figure size 432x288 with 1 Axes>"
      ]
     },
     "metadata": {
      "needs_background": "light"
     },
     "output_type": "display_data"
    },
    {
     "data": {
      "image/png": "[encoded data removed]",
      "text/plain": [
       "<Figure size 432x288 with 1 Axes>"
      ]
     },
     "metadata": {
      "needs_background": "light"
     },
     "output_type": "display_data"
    }
   ],
   "source": [
    "print(\"train data size \", train_data.data.size())\n",
    "print(\"test data size \", test_data.data.size())\n",
    "plt.imshow(train_data.data[random.randint(0,train_data.data.size()[0])],\n",
    "          cmap='gray')\n",
    "plt.show()\n",
    "plt.imshow(test_data.data[random.randint(0,test_data.data.size()[0])],\n",
    "          cmap='gray')\n",
    "plt.show()"
   ]
  },
  {
   "cell_type": "markdown",
   "metadata": {},
   "source": [
    "### 创建Dataloader"
   ]
  },
  {
   "cell_type": "code",
   "execution_count": 4,
   "metadata": {},
   "outputs": [],
   "source": [
    "batch_size = 10\n",
    "train_loader = DataLoader(train_data,\n",
    "                          batch_size=batch_size,\n",
    "                         shuffle=True,\n",
    "                         num_workers=4)\n",
    "test_loader = DataLoader(test_data,\n",
    "                          batch_size=batch_size,\n",
    "                         shuffle=True,\n",
    "                        num_workers=4)"
   ]
  },
  {
   "cell_type": "markdown",
   "metadata": {},
   "source": [
    "## 定义网络"
   ]
  },
  {
   "cell_type": "code",
   "execution_count": 5,
   "metadata": {},
   "outputs": [
    {
     "name": "stdout",
     "output_type": "stream",
     "text": [
      "Net(\n",
      "  (flatten): Flatten()\n",
      "  (fc1): Linear(in_features=784, out_features=784, bias=True)\n",
      "  (relu): ReLU()\n",
      "  (fc2): Linear(in_features=784, out_features=10, bias=True)\n",
      ")\n"
     ]
    }
   ],
   "source": [
    "class Net(nn.Module):\n",
    "    def __init__(self,input_size,output_size):\n",
    "        super(Net,self).__init__()\n",
    "        self.flatten = Flatten()\n",
    "        self.fc1 = nn.Linear(input_size,input_size)\n",
    "        self.relu = nn.ReLU()\n",
    "        self.fc2 = nn.Linear(input_size,output_size)\n",
    "        \n",
    "    \n",
    "    def forward(self,x):\n",
    "        x = self.flatten(x)\n",
    "        x = self.relu(self.fc1(x))\n",
    "        x = self.fc2(x)\n",
    "        return x\n",
    "    \n",
    "class Flatten(nn.Module):\n",
    "    def forward(self,x):\n",
    "        return x.view(x.shape[0],-1)\n",
    "    \n",
    "net = Net(28*28,10)\n",
    "print(net)"
   ]
  },
  {
   "cell_type": "markdown",
   "metadata": {},
   "source": [
    "## 预测样例"
   ]
  },
  {
   "cell_type": "code",
   "execution_count": 6,
   "metadata": {},
   "outputs": [],
   "source": [
    "def net_sample_output():\n",
    "    for i, sample in enumerate(train_loader):\n",
    "        data = sample[0]\n",
    "        labels = sample[1]\n",
    "        \n",
    "        outputs = net(data)\n",
    "        \n",
    "        if i == 0:\n",
    "            return data,outputs,labels\n",
    "        \n",
    "def visual_output(imgs,outputs,labels=None):\n",
    "    for i in range(batch_size):\n",
    "        img = imgs[i].view(28,28)\n",
    "        output = outputs[i]\n",
    "        plt.imshow(img,cmap='gray')\n",
    "        if labels is not None:\n",
    "            label = labels[i]\n",
    "            print(f\"prediction:{torch.argmax(output)},label:{label}\")\n",
    "        else:\n",
    "            print(f\"prediction:{torch.argmax(output)}\")\n",
    "        plt.show()\n",
    "    "
   ]
  },
  {
   "cell_type": "code",
   "execution_count": 7,
   "metadata": {},
   "outputs": [
    {
     "name": "stdout",
     "output_type": "stream",
     "text": [
      "prediction:8,label:9\n"
     ]
    },
    {
     "data": {
      "image/png": "[encoded data removed]",
      "text/plain": [
       "<Figure size 432x288 with 1 Axes>"
      ]
     },
     "metadata": {
      "needs_background": "light"
     },
     "output_type": "display_data"
    },
    {
     "name": "stdout",
     "output_type": "stream",
     "text": [
      "prediction:7,label:7\n"
     ]
    },
    {
     "data": {
      "image/png": "[encoded data removed]",
      "text/plain": [
       "<Figure size 432x288 with 1 Axes>"
      ]
     },
     "metadata": {
      "needs_background": "light"
     },
     "output_type": "display_data"
    },
    {
     "name": "stdout",
     "output_type": "stream",
     "text": [
      "prediction:7,label:4\n"
     ]
    },
    {
     "data": {
      "image/png": "[encoded data removed]",
      "text/plain": [
       "<Figure size 432x288 with 1 Axes>"
      ]
     },
     "metadata": {
      "needs_background": "light"
     },
     "output_type": "display_data"
    },
    {
     "name": "stdout",
     "output_type": "stream",
     "text": [
      "prediction:8,label:6\n"
     ]
    },
    {
     "data": {
      "image/png": "[encoded data removed]",
      "text/plain": [
       "<Figure size 432x288 with 1 Axes>"
      ]
     },
     "metadata": {
      "needs_background": "light"
     },
     "output_type": "display_data"
    },
    {
     "name": "stdout",
     "output_type": "stream",
     "text": [
      "prediction:3,label:3\n"
     ]
    },
    {
     "data": {
      "image/png": "[encoded data removed]",
      "text/plain": [
       "<Figure size 432x288 with 1 Axes>"
      ]
     },
     "metadata": {
      "needs_background": "light"
     },
     "output_type": "display_data"
    },
    {
     "name": "stdout",
     "output_type": "stream",
     "text": [
      "prediction:7,label:2\n"
     ]
    },
    {
     "data": {
      "image/png": "[encoded data removed]",
      "text/plain": [
       "<Figure size 432x288 with 1 Axes>"
      ]
     },
     "metadata": {
      "needs_background": "light"
     },
     "output_type": "display_data"
    },
    {
     "name": "stdout",
     "output_type": "stream",
     "text": [
      "prediction:8,label:9\n"
     ]
    },
    {
     "data": {
      "image/png": "[encoded data removed]",
      "text/plain": [
       "<Figure size 432x288 with 1 Axes>"
      ]
     },
     "metadata": {
      "needs_background": "light"
     },
     "output_type": "display_data"
    },
    {
     "name": "stdout",
     "output_type": "stream",
     "text": [
      "prediction:2,label:9\n"
     ]
    },
    {
     "data": {
      "image/png": "[encoded data removed]",
      "text/plain": [
       "<Figure size 432x288 with 1 Axes>"
      ]
     },
     "metadata": {
      "needs_background": "light"
     },
     "output_type": "display_data"
    },
    {
     "name": "stdout",
     "output_type": "stream",
     "text": [
      "prediction:9,label:8\n"
     ]
    },
    {
     "data": {
      "image/png": "[encoded data removed]",
      "text/plain": [
       "<Figure size 432x288 with 1 Axes>"
      ]
     },
     "metadata": {
      "needs_background": "light"
     },
     "output_type": "display_data"
    },
    {
     "name": "stdout",
     "output_type": "stream",
     "text": [
      "prediction:1,label:6\n"
     ]
    },
    {
     "data": {
      "image/png": "[encoded data removed]",
      "text/plain": [
       "<Figure size 432x288 with 1 Axes>"
      ]
     },
     "metadata": {
      "needs_background": "light"
     },
     "output_type": "display_data"
    }
   ],
   "source": [
    "data,outputs,labels = net_sample_output()\n",
    "visual_output(data,outputs,labels)"
   ]
  },
  {
   "cell_type": "markdown",
   "metadata": {},
   "source": [
    "## 开始训练"
   ]
  },
  {
   "cell_type": "code",
   "execution_count": 8,
   "metadata": {},
   "outputs": [
    {
     "name": "stdout",
     "output_type": "stream",
     "text": [
      "epoch:1,Avg.loss:0.21838,test loss:0.20495,acc:55.00%\n",
      "epoch:2,Avg.loss:0.18689,test loss:0.16964,acc:70.00%\n",
      "epoch:3,Avg.loss:0.15296,test loss:0.13045,acc:77.50%\n",
      "epoch:4,Avg.loss:0.12243,test loss:0.10559,acc:78.00%\n",
      "epoch:5,Avg.loss:0.09929,test loss:0.10204,acc:75.50%\n",
      "epoch:6,Avg.loss:0.08503,test loss:0.08354,acc:77.50%\n",
      "epoch:7,Avg.loss:0.07416,test loss:0.06909,acc:85.00%\n",
      "epoch:8,Avg.loss:0.06612,test loss:0.06951,acc:81.00%\n",
      "epoch:9,Avg.loss:0.06103,test loss:0.04882,acc:89.50%\n",
      "epoch:10,Avg.loss:0.05781,test loss:0.04718,acc:90.00%\n",
      "epoch:11,Avg.loss:0.05811,test loss:0.05246,acc:86.50%\n",
      "epoch:12,Avg.loss:0.05215,test loss:0.05012,acc:87.50%\n",
      "epoch:13,Avg.loss:0.04750,test loss:0.05161,acc:85.00%\n",
      "epoch:14,Avg.loss:0.04686,test loss:0.04011,acc:90.00%\n",
      "epoch:15,Avg.loss:0.04366,test loss:0.04989,acc:87.50%\n",
      "epoch:16,Avg.loss:0.04357,test loss:0.03946,acc:91.50%\n",
      "epoch:17,Avg.loss:0.04385,test loss:0.04285,acc:90.00%\n",
      "epoch:18,Avg.loss:0.04523,test loss:0.04509,acc:88.50%\n",
      "epoch:19,Avg.loss:0.04019,test loss:0.03734,acc:90.50%\n",
      "epoch:20,Avg.loss:0.03900,test loss:0.04384,acc:90.50%\n",
      "epoch:21,Avg.loss:0.04302,test loss:0.03025,acc:91.50%\n",
      "epoch:22,Avg.loss:0.03960,test loss:0.04332,acc:85.00%\n",
      "epoch:23,Avg.loss:0.04113,test loss:0.04049,acc:90.00%\n",
      "epoch:24,Avg.loss:0.03933,test loss:0.04111,acc:92.00%\n",
      "epoch:25,Avg.loss:0.03613,test loss:0.03532,acc:90.00%\n",
      "epoch:26,Avg.loss:0.04103,test loss:0.03722,acc:92.00%\n",
      "epoch:27,Avg.loss:0.03740,test loss:0.04026,acc:86.50%\n",
      "epoch:28,Avg.loss:0.03709,test loss:0.03581,acc:90.50%\n",
      "epoch:29,Avg.loss:0.03501,test loss:0.02806,acc:92.00%\n",
      "epoch:30,Avg.loss:0.03755,test loss:0.02944,acc:93.50%\n",
      "epoch:31,Avg.loss:0.03668,test loss:0.03466,acc:91.50%\n",
      "epoch:32,Avg.loss:0.03805,test loss:0.03419,acc:90.50%\n",
      "epoch:33,Avg.loss:0.03904,test loss:0.02275,acc:95.00%\n",
      "epoch:34,Avg.loss:0.03357,test loss:0.03133,acc:89.50%\n",
      "epoch:35,Avg.loss:0.03509,test loss:0.03302,acc:91.00%\n",
      "epoch:36,Avg.loss:0.03359,test loss:0.03124,acc:90.00%\n",
      "epoch:37,Avg.loss:0.03167,test loss:0.02653,acc:91.00%\n",
      "epoch:38,Avg.loss:0.03565,test loss:0.03654,acc:89.00%\n",
      "epoch:39,Avg.loss:0.03184,test loss:0.03127,acc:90.00%\n",
      "epoch:40,Avg.loss:0.03214,test loss:0.03659,acc:90.50%\n",
      "epoch:41,Avg.loss:0.03008,test loss:0.03241,acc:93.00%\n",
      "epoch:42,Avg.loss:0.03055,test loss:0.03040,acc:90.50%\n",
      "epoch:43,Avg.loss:0.03215,test loss:0.03186,acc:92.50%\n",
      "epoch:44,Avg.loss:0.03291,test loss:0.02837,acc:89.00%\n",
      "epoch:45,Avg.loss:0.03295,test loss:0.03564,acc:88.00%\n",
      "epoch:46,Avg.loss:0.03002,test loss:0.03926,acc:90.00%\n",
      "epoch:47,Avg.loss:0.03128,test loss:0.02544,acc:93.00%\n",
      "epoch:48,Avg.loss:0.02982,test loss:0.03008,acc:91.00%\n",
      "epoch:49,Avg.loss:0.03252,test loss:0.02778,acc:91.50%\n",
      "epoch:50,Avg.loss:0.03046,test loss:0.03240,acc:91.00%\n",
      "epoch:51,Avg.loss:0.03397,test loss:0.02900,acc:92.50%\n",
      "epoch:52,Avg.loss:0.03092,test loss:0.02335,acc:92.00%\n",
      "epoch:53,Avg.loss:0.03161,test loss:0.03163,acc:90.50%\n",
      "epoch:54,Avg.loss:0.02780,test loss:0.03956,acc:88.50%\n",
      "epoch:55,Avg.loss:0.02548,test loss:0.03510,acc:88.50%\n",
      "epoch:56,Avg.loss:0.02929,test loss:0.02593,acc:92.00%\n",
      "epoch:57,Avg.loss:0.02950,test loss:0.03215,acc:92.50%\n",
      "epoch:58,Avg.loss:0.02697,test loss:0.03165,acc:92.00%\n",
      "epoch:59,Avg.loss:0.02675,test loss:0.03686,acc:89.00%\n",
      "epoch:60,Avg.loss:0.02961,test loss:0.02181,acc:92.00%\n",
      "epoch:61,Avg.loss:0.02830,test loss:0.02635,acc:92.50%\n",
      "epoch:62,Avg.loss:0.03086,test loss:0.03004,acc:91.00%\n",
      "epoch:63,Avg.loss:0.02672,test loss:0.02322,acc:95.00%\n",
      "epoch:64,Avg.loss:0.02389,test loss:0.04014,acc:88.50%\n",
      "epoch:65,Avg.loss:0.02680,test loss:0.03716,acc:91.00%\n",
      "epoch:66,Avg.loss:0.02760,test loss:0.02241,acc:93.50%\n",
      "epoch:67,Avg.loss:0.02778,test loss:0.02862,acc:92.00%\n",
      "epoch:68,Avg.loss:0.02867,test loss:0.03146,acc:92.00%\n",
      "epoch:69,Avg.loss:0.02837,test loss:0.02843,acc:91.50%\n",
      "epoch:70,Avg.loss:0.02417,test loss:0.01909,acc:95.50%\n",
      "epoch:71,Avg.loss:0.03144,test loss:0.02835,acc:92.50%\n",
      "epoch:72,Avg.loss:0.02474,test loss:0.01535,acc:95.00%\n",
      "epoch:73,Avg.loss:0.02755,test loss:0.01940,acc:93.00%\n",
      "epoch:74,Avg.loss:0.02970,test loss:0.03882,acc:89.00%\n",
      "epoch:75,Avg.loss:0.02778,test loss:0.03591,acc:89.50%\n",
      "epoch:76,Avg.loss:0.02672,test loss:0.02123,acc:94.50%\n",
      "epoch:77,Avg.loss:0.02713,test loss:0.02964,acc:90.50%\n",
      "epoch:78,Avg.loss:0.02467,test loss:0.02249,acc:94.00%\n",
      "epoch:79,Avg.loss:0.02558,test loss:0.03381,acc:92.00%\n",
      "epoch:80,Avg.loss:0.02824,test loss:0.02881,acc:89.50%\n",
      "epoch:81,Avg.loss:0.02695,test loss:0.02604,acc:92.50%\n",
      "epoch:82,Avg.loss:0.02465,test loss:0.02877,acc:91.00%\n",
      "epoch:83,Avg.loss:0.02639,test loss:0.02725,acc:91.50%\n",
      "epoch:84,Avg.loss:0.02707,test loss:0.03073,acc:91.00%\n",
      "epoch:85,Avg.loss:0.02931,test loss:0.02890,acc:89.50%\n",
      "epoch:86,Avg.loss:0.03089,test loss:0.01608,acc:96.00%\n",
      "epoch:87,Avg.loss:0.02370,test loss:0.02390,acc:92.00%\n",
      "epoch:88,Avg.loss:0.02098,test loss:0.02174,acc:93.50%\n",
      "epoch:89,Avg.loss:0.02505,test loss:0.02399,acc:94.00%\n",
      "epoch:90,Avg.loss:0.02811,test loss:0.03639,acc:89.50%\n",
      "epoch:91,Avg.loss:0.02713,test loss:0.02326,acc:94.50%\n",
      "epoch:92,Avg.loss:0.02267,test loss:0.03254,acc:92.00%\n",
      "epoch:93,Avg.loss:0.02583,test loss:0.02012,acc:95.00%\n",
      "epoch:94,Avg.loss:0.02688,test loss:0.02236,acc:94.50%\n",
      "epoch:95,Avg.loss:0.02325,test loss:0.02205,acc:94.00%\n",
      "epoch:96,Avg.loss:0.02760,test loss:0.02163,acc:93.50%\n",
      "epoch:97,Avg.loss:0.02630,test loss:0.03287,acc:91.50%\n",
      "epoch:98,Avg.loss:0.02290,test loss:0.02563,acc:95.00%\n",
      "epoch:99,Avg.loss:0.02283,test loss:0.01545,acc:96.00%\n",
      "epoch:100,Avg.loss:0.02632,test loss:0.01904,acc:94.50%\n"
     ]
    }
   ],
   "source": [
    "net = Net(28*28,10)\n",
    "\n",
    "net.train()\n",
    "\n",
    "optimizer = optim.SGD(net.parameters(),lr=0.01)\n",
    "criterion = nn.CrossEntropyLoss()\n",
    "\n",
    "n_epoch = 100\n",
    "num_of_batch = 100\n",
    "\n",
    "for epoch in range(n_epoch):\n",
    "    running_loss = 0.0\n",
    "    for batch_i,data in enumerate(train_loader):\n",
    "        if batch_i == num_of_batch:\n",
    "            break\n",
    "        \n",
    "        imgs = data[0]\n",
    "        labels = data[1]\n",
    "        \n",
    "        outputs = net(imgs)\n",
    "        loss = criterion(outputs,labels)\n",
    "        \n",
    "        optimizer.zero_grad()\n",
    "        loss.backward()\n",
    "        optimizer.step()\n",
    "        \n",
    "        running_loss += loss.data\n",
    "    \n",
    "    test_loss = 0.1\n",
    "    acc = 0.0\n",
    "    for batch_i,data in enumerate(test_loader):\n",
    "        if batch_i == num_of_batch/5:\n",
    "            break\n",
    "        imgs = data[0]\n",
    "        labels = data[1]\n",
    "        with torch.no_grad():\n",
    "            outputs = net(imgs)\n",
    "            output_labels = torch.argmax(outputs,dim=1)\n",
    "            \n",
    "            acc += float(torch.sum(output_labels==labels))\n",
    "            loss = criterion(outputs,labels)\n",
    "            test_loss += loss.data\n",
    "        \n",
    "\n",
    "    print(f\"\"\"epoch:{epoch+1},Avg.loss:{running_loss/num_of_batch/batch_size:.5f},test loss:{test_loss/num_of_batch*5/batch_size:.5f},acc:{acc/num_of_batch*5/batch_size*100:.2f}%\"\"\")"
   ]
  },
  {
   "cell_type": "markdown",
   "metadata": {},
   "source": [
    "## Evaluation"
   ]
  },
  {
   "cell_type": "code",
   "execution_count": 10,
   "metadata": {},
   "outputs": [
    {
     "name": "stdout",
     "output_type": "stream",
     "text": [
      "prediction:2,label:2\n"
     ]
    },
    {
     "data": {
      "image/png": "[encoded data removed]",
      "text/plain": [
       "<Figure size 432x288 with 1 Axes>"
      ]
     },
     "metadata": {
      "needs_background": "light"
     },
     "output_type": "display_data"
    },
    {
     "name": "stdout",
     "output_type": "stream",
     "text": [
      "prediction:2,label:2\n"
     ]
    },
    {
     "data": {
      "image/png": "[encoded data removed]",
      "text/plain": [
       "<Figure size 432x288 with 1 Axes>"
      ]
     },
     "metadata": {
      "needs_background": "light"
     },
     "output_type": "display_data"
    },
    {
     "name": "stdout",
     "output_type": "stream",
     "text": [
      "prediction:7,label:7\n"
     ]
    },
    {
     "data": {
      "image/png": "[encoded data removed]",
      "text/plain": [
       "<Figure size 432x288 with 1 Axes>"
      ]
     },
     "metadata": {
      "needs_background": "light"
     },
     "output_type": "display_data"
    },
    {
     "name": "stdout",
     "output_type": "stream",
     "text": [
      "prediction:4,label:4\n"
     ]
    },
    {
     "data": {
      "image/png": "[encoded data removed]",
      "text/plain": [
       "<Figure size 432x288 with 1 Axes>"
      ]
     },
     "metadata": {
      "needs_background": "light"
     },
     "output_type": "display_data"
    },
    {
     "name": "stdout",
     "output_type": "stream",
     "text": [
      "prediction:5,label:5\n"
     ]
    },
    {
     "data": {
      "image/png": "[encoded data removed]",
      "text/plain": [
       "<Figure size 432x288 with 1 Axes>"
      ]
     },
     "metadata": {
      "needs_background": "light"
     },
     "output_type": "display_data"
    },
    {
     "name": "stdout",
     "output_type": "stream",
     "text": [
      "prediction:0,label:0\n"
     ]
    },
    {
     "data": {
      "image/png": "[encoded data removed]",
      "text/plain": [
       "<Figure size 432x288 with 1 Axes>"
      ]
     },
     "metadata": {
      "needs_background": "light"
     },
     "output_type": "display_data"
    },
    {
     "name": "stdout",
     "output_type": "stream",
     "text": [
      "prediction:5,label:5\n"
     ]
    },
    {
     "data": {
      "image/png": "[encoded data removed]",
      "text/plain": [
       "<Figure size 432x288 with 1 Axes>"
      ]
     },
     "metadata": {
      "needs_background": "light"
     },
     "output_type": "display_data"
    },
    {
     "name": "stdout",
     "output_type": "stream",
     "text": [
      "prediction:8,label:8\n"
     ]
    },
    {
     "data": {
      "image/png": "[encoded data removed]",
      "text/plain": [
       "<Figure size 432x288 with 1 Axes>"
      ]
     },
     "metadata": {
      "needs_background": "light"
     },
     "output_type": "display_data"
    },
    {
     "name": "stdout",
     "output_type": "stream",
     "text": [
      "prediction:5,label:5\n"
     ]
    },
    {
     "data": {
      "image/png": "[encoded data removed]",
      "text/plain": [
       "<Figure size 432x288 with 1 Axes>"
      ]
     },
     "metadata": {
      "needs_background": "light"
     },
     "output_type": "display_data"
    },
    {
     "name": "stdout",
     "output_type": "stream",
     "text": [
      "prediction:3,label:3\n"
     ]
    },
    {
     "data": {
      "image/png": "[encoded data removed]",
      "text/plain": [
       "<Figure size 432x288 with 1 Axes>"
      ]
     },
     "metadata": {
      "needs_background": "light"
     },
     "output_type": "display_data"
    }
   ],
   "source": [
    "data,outputs,labels = net_sample_output()\n",
    "visual_output(data,outputs,labels)"
   ]
  },
  {
   "cell_type": "markdown",
   "metadata": {},
   "source": [
    "## 卷积网络"
   ]
  },
  {
   "cell_type": "code",
   "execution_count": 15,
   "metadata": {},
   "outputs": [],
   "source": [
    "class CNN(nn.Module):\n",
    "    def __init__(self,input_planes,num_classes):\n",
    "        super(CNN,self).__init__()\n",
    "        self.conv1 = nn.Conv2d(input_planes, 8, kernel_size=3, stride=1,\n",
    "                     padding=1, bias=False)\n",
    "        self.relu = nn.ReLU()\n",
    "        self.maxpool = nn.MaxPool2d(kernel_size=2,stride=2)\n",
    "        self.conv2 = nn.Conv2d(8,16,kernel_size=3,stride=1,\n",
    "                               padding=1,bias=False)\n",
    "        self.flatten = Flatten()\n",
    "        self.fc = nn.Linear(7*7*16,num_classes)\n",
    "        \n",
    "    def forward(self,x):\n",
    "        x = self.maxpool(self.relu(self.conv1(x)))\n",
    "        x = self.maxpool(self.relu(self.conv2(x)))\n",
    "        x = self.flatten(x)\n",
    "        x = self.fc(x)\n",
    "        return x"
   ]
  },
  {
   "cell_type": "code",
   "execution_count": 16,
   "metadata": {},
   "outputs": [
    {
     "name": "stdout",
     "output_type": "stream",
     "text": [
      "epoch:1,Avg.loss:0.21772,test loss:0.19774,acc:38.50%\n",
      "epoch:2,Avg.loss:0.14958,test loss:0.09929,acc:73.00%\n",
      "epoch:3,Avg.loss:0.07751,test loss:0.06136,acc:81.50%\n",
      "epoch:4,Avg.loss:0.06356,test loss:0.05117,acc:81.50%\n",
      "epoch:5,Avg.loss:0.05065,test loss:0.04831,acc:85.50%\n",
      "epoch:6,Avg.loss:0.04840,test loss:0.04480,acc:87.00%\n",
      "epoch:7,Avg.loss:0.04351,test loss:0.05452,acc:85.50%\n",
      "epoch:8,Avg.loss:0.04402,test loss:0.02896,acc:91.00%\n",
      "epoch:9,Avg.loss:0.03470,test loss:0.02554,acc:93.50%\n",
      "epoch:10,Avg.loss:0.04036,test loss:0.02447,acc:93.50%\n",
      "epoch:11,Avg.loss:0.03457,test loss:0.02141,acc:93.50%\n",
      "epoch:12,Avg.loss:0.02994,test loss:0.02847,acc:92.00%\n",
      "epoch:13,Avg.loss:0.02996,test loss:0.03864,acc:87.50%\n",
      "epoch:14,Avg.loss:0.03159,test loss:0.01922,acc:93.50%\n",
      "epoch:15,Avg.loss:0.02572,test loss:0.02259,acc:93.00%\n",
      "epoch:16,Avg.loss:0.02560,test loss:0.03295,acc:90.00%\n",
      "epoch:17,Avg.loss:0.02626,test loss:0.02027,acc:94.00%\n",
      "epoch:18,Avg.loss:0.02165,test loss:0.02402,acc:93.00%\n",
      "epoch:19,Avg.loss:0.02385,test loss:0.02250,acc:94.00%\n",
      "epoch:20,Avg.loss:0.02251,test loss:0.02070,acc:96.00%\n",
      "epoch:21,Avg.loss:0.02163,test loss:0.02435,acc:93.00%\n",
      "epoch:22,Avg.loss:0.02217,test loss:0.01813,acc:96.00%\n",
      "epoch:23,Avg.loss:0.02274,test loss:0.01694,acc:94.00%\n",
      "epoch:24,Avg.loss:0.02269,test loss:0.01638,acc:95.00%\n",
      "epoch:25,Avg.loss:0.01779,test loss:0.02473,acc:93.50%\n",
      "epoch:26,Avg.loss:0.02148,test loss:0.01994,acc:95.00%\n",
      "epoch:27,Avg.loss:0.02270,test loss:0.02385,acc:93.00%\n",
      "epoch:28,Avg.loss:0.01944,test loss:0.01372,acc:96.00%\n",
      "epoch:29,Avg.loss:0.02183,test loss:0.01826,acc:94.50%\n",
      "epoch:30,Avg.loss:0.01854,test loss:0.02381,acc:92.00%\n",
      "epoch:31,Avg.loss:0.01722,test loss:0.02212,acc:94.50%\n",
      "epoch:32,Avg.loss:0.02102,test loss:0.01531,acc:97.00%\n",
      "epoch:33,Avg.loss:0.01498,test loss:0.01561,acc:96.00%\n",
      "epoch:34,Avg.loss:0.01772,test loss:0.01363,acc:95.00%\n",
      "epoch:35,Avg.loss:0.01681,test loss:0.01485,acc:95.50%\n",
      "epoch:36,Avg.loss:0.01728,test loss:0.01193,acc:97.00%\n",
      "epoch:37,Avg.loss:0.01650,test loss:0.01040,acc:97.50%\n",
      "epoch:38,Avg.loss:0.01586,test loss:0.01720,acc:95.00%\n",
      "epoch:39,Avg.loss:0.01770,test loss:0.01537,acc:96.50%\n",
      "epoch:40,Avg.loss:0.01516,test loss:0.01517,acc:96.00%\n",
      "epoch:41,Avg.loss:0.01624,test loss:0.01600,acc:93.00%\n",
      "epoch:42,Avg.loss:0.01773,test loss:0.01232,acc:97.00%\n",
      "epoch:43,Avg.loss:0.01311,test loss:0.01249,acc:96.00%\n",
      "epoch:44,Avg.loss:0.01561,test loss:0.01370,acc:96.50%\n",
      "epoch:45,Avg.loss:0.01693,test loss:0.01521,acc:95.50%\n",
      "epoch:46,Avg.loss:0.01182,test loss:0.01121,acc:97.00%\n",
      "epoch:47,Avg.loss:0.02134,test loss:0.01902,acc:93.50%\n",
      "epoch:48,Avg.loss:0.01757,test loss:0.01548,acc:96.50%\n",
      "epoch:49,Avg.loss:0.01158,test loss:0.00853,acc:96.50%\n",
      "epoch:50,Avg.loss:0.01295,test loss:0.01111,acc:97.00%\n",
      "epoch:51,Avg.loss:0.01258,test loss:0.00778,acc:98.00%\n",
      "epoch:52,Avg.loss:0.01561,test loss:0.01672,acc:95.50%\n",
      "epoch:53,Avg.loss:0.01129,test loss:0.01946,acc:93.50%\n",
      "epoch:54,Avg.loss:0.01558,test loss:0.00977,acc:96.50%\n",
      "epoch:55,Avg.loss:0.01678,test loss:0.01190,acc:95.00%\n",
      "epoch:56,Avg.loss:0.01350,test loss:0.00571,acc:98.50%\n",
      "epoch:57,Avg.loss:0.01157,test loss:0.01482,acc:95.50%\n",
      "epoch:58,Avg.loss:0.01329,test loss:0.01911,acc:93.00%\n",
      "epoch:59,Avg.loss:0.01386,test loss:0.00477,acc:98.50%\n",
      "epoch:60,Avg.loss:0.01485,test loss:0.00775,acc:98.00%\n",
      "epoch:61,Avg.loss:0.01443,test loss:0.00878,acc:98.50%\n",
      "epoch:62,Avg.loss:0.01260,test loss:0.00832,acc:97.00%\n",
      "epoch:63,Avg.loss:0.01142,test loss:0.01126,acc:96.00%\n",
      "epoch:64,Avg.loss:0.01183,test loss:0.01261,acc:96.50%\n",
      "epoch:65,Avg.loss:0.01122,test loss:0.01112,acc:98.00%\n",
      "epoch:66,Avg.loss:0.01589,test loss:0.01309,acc:95.50%\n",
      "epoch:67,Avg.loss:0.01005,test loss:0.01261,acc:95.50%\n",
      "epoch:68,Avg.loss:0.01443,test loss:0.00689,acc:98.50%\n",
      "epoch:69,Avg.loss:0.01249,test loss:0.00983,acc:97.00%\n",
      "epoch:70,Avg.loss:0.01320,test loss:0.00963,acc:96.50%\n",
      "epoch:71,Avg.loss:0.01345,test loss:0.00607,acc:99.00%\n",
      "epoch:72,Avg.loss:0.01129,test loss:0.01007,acc:96.50%\n",
      "epoch:73,Avg.loss:0.01022,test loss:0.01373,acc:95.50%\n",
      "epoch:74,Avg.loss:0.01155,test loss:0.01637,acc:95.50%\n",
      "epoch:75,Avg.loss:0.01032,test loss:0.00792,acc:98.50%\n",
      "epoch:76,Avg.loss:0.01232,test loss:0.01136,acc:97.00%\n",
      "epoch:77,Avg.loss:0.01252,test loss:0.01199,acc:97.00%\n",
      "epoch:78,Avg.loss:0.01045,test loss:0.00657,acc:98.00%\n",
      "epoch:79,Avg.loss:0.01352,test loss:0.01073,acc:97.50%\n",
      "epoch:80,Avg.loss:0.00946,test loss:0.00911,acc:97.50%\n",
      "epoch:81,Avg.loss:0.01291,test loss:0.01697,acc:95.50%\n",
      "epoch:82,Avg.loss:0.01046,test loss:0.01491,acc:94.50%\n",
      "epoch:83,Avg.loss:0.01413,test loss:0.01186,acc:96.50%\n",
      "epoch:84,Avg.loss:0.01111,test loss:0.01040,acc:96.50%\n",
      "epoch:85,Avg.loss:0.00842,test loss:0.00533,acc:99.00%\n",
      "epoch:86,Avg.loss:0.01206,test loss:0.00870,acc:98.00%\n",
      "epoch:87,Avg.loss:0.01118,test loss:0.00979,acc:96.50%\n",
      "epoch:88,Avg.loss:0.00838,test loss:0.01180,acc:97.50%\n",
      "epoch:89,Avg.loss:0.00912,test loss:0.00758,acc:97.50%\n",
      "epoch:90,Avg.loss:0.00805,test loss:0.00770,acc:98.50%\n",
      "epoch:91,Avg.loss:0.00688,test loss:0.00783,acc:97.50%\n",
      "epoch:92,Avg.loss:0.00527,test loss:0.00607,acc:97.50%\n",
      "epoch:93,Avg.loss:0.00783,test loss:0.00707,acc:98.00%\n",
      "epoch:94,Avg.loss:0.00917,test loss:0.00795,acc:97.50%\n",
      "epoch:95,Avg.loss:0.00933,test loss:0.01285,acc:95.50%\n",
      "epoch:96,Avg.loss:0.01039,test loss:0.00697,acc:98.00%\n",
      "epoch:97,Avg.loss:0.00960,test loss:0.00682,acc:97.50%\n",
      "epoch:98,Avg.loss:0.00803,test loss:0.01232,acc:96.00%\n",
      "epoch:99,Avg.loss:0.01095,test loss:0.01024,acc:97.00%\n",
      "epoch:100,Avg.loss:0.00985,test loss:0.00709,acc:98.50%\n"
     ]
    }
   ],
   "source": [
    "net = CNN(1,10)\n",
    "\n",
    "net.train()\n",
    "\n",
    "optimizer = optim.SGD(net.parameters(),lr=0.01)\n",
    "criterion = nn.CrossEntropyLoss()\n",
    "\n",
    "n_epoch = 100\n",
    "num_of_batch = 100\n",
    "\n",
    "for epoch in range(n_epoch):\n",
    "    running_loss = 0.0\n",
    "    for batch_i,data in enumerate(train_loader):\n",
    "        if batch_i == num_of_batch:\n",
    "            break\n",
    "        \n",
    "        imgs = data[0]\n",
    "        labels = data[1]\n",
    "        \n",
    "        outputs = net(imgs)\n",
    "        loss = criterion(outputs,labels)\n",
    "        \n",
    "        optimizer.zero_grad()\n",
    "        loss.backward()\n",
    "        optimizer.step()\n",
    "        \n",
    "        running_loss += loss.data\n",
    "    \n",
    "    test_loss = 0.1\n",
    "    acc = 0.0\n",
    "    for batch_i,data in enumerate(test_loader):\n",
    "        if batch_i == num_of_batch/5:\n",
    "            break\n",
    "        imgs = data[0]\n",
    "        labels = data[1]\n",
    "        with torch.no_grad():\n",
    "            outputs = net(imgs)\n",
    "            output_labels = torch.argmax(outputs,dim=1)\n",
    "            \n",
    "            acc += float(torch.sum(output_labels==labels))\n",
    "            loss = criterion(outputs,labels)\n",
    "            test_loss += loss.data\n",
    "        \n",
    "\n",
    "    print(f\"\"\"epoch:{epoch+1},Avg.loss:{running_loss/num_of_batch/batch_size:.5f},test loss:{test_loss/num_of_batch*5/batch_size:.5f},acc:{acc/num_of_batch*5/batch_size*100:.2f}%\"\"\")"
   ]
  },
  {
   "cell_type": "code",
   "execution_count": null,
   "metadata": {},
   "outputs": [],
   "source": []
  }
 ],
 "metadata": {
  "kernelspec": {
   "display_name": "pytroch_playground",
   "language": "python",
   "name": "pytroch_playground"
  },
  "language_info": {
   "codemirror_mode": {
    "name": "ipython",
    "version": 3
   },
   "file_extension": ".py",
   "mimetype": "text/x-python",
   "name": "python",
   "nbconvert_exporter": "python",
   "pygments_lexer": "ipython3",
   "version": "3.6.8"
  }
 },
 "nbformat": 4,
 "nbformat_minor": 2
}
